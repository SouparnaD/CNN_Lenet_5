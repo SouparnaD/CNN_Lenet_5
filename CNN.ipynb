{
 "cells": [
  {
   "cell_type": "code",
   "execution_count": 6,
   "metadata": {},
   "outputs": [],
   "source": [
    "import os\n",
    "import struct\n",
    "import numpy as np\n",
    "\n",
    "def show(image):\n",
    "    \"\"\"\n",
    "    Render a given numpy.uint8 2D array of pixel data.\n",
    "    \"\"\"\n",
    "    from matplotlib import pyplot\n",
    "    import matplotlib as mpl\n",
    "    fig = pyplot.figure(figsize=(5,5))\n",
    "    ax = fig.add_subplot(1,1,1)\n",
    "    imgplot = ax.imshow(image, cmap=mpl.cm.Greys)\n",
    "    imgplot.set_interpolation('nearest')\n",
    "    ax.xaxis.set_ticks_position('top')\n",
    "    ax.yaxis.set_ticks_position('left')\n",
    "    pyplot.show()"
   ]
  },
  {
   "cell_type": "code",
   "execution_count": 7,
   "metadata": {},
   "outputs": [],
   "source": [
    "def read():\n",
    "    with open('train-labels-idx1-ubyte', 'rb') as flbl:\n",
    "        magic, num = struct.unpack(\">II\", flbl.read(8))\n",
    "        lbl = np.fromfile(flbl, dtype=np.int8)\n",
    "\n",
    "    with open('train-images-idx3-ubyte', 'rb') as fimg:\n",
    "        magic, num, rows, cols = struct.unpack(\">IIII\", fimg.read(16))\n",
    "        img = np.fromfile(fimg, dtype=np.uint8).reshape(len(lbl),rows,cols)\n",
    "    \n",
    "    get_img = lambda idx: (lbl[idx], img[idx])\n",
    "    for i in range(len(lbl)):\n",
    "        yield get_img(i)"
   ]
  },
  {
   "cell_type": "code",
   "execution_count": 8,
   "metadata": {},
   "outputs": [],
   "source": [
    "train_data = list(read())"
   ]
  },
  {
   "cell_type": "code",
   "execution_count": 9,
   "metadata": {},
   "outputs": [
    {
     "data": {
      "image/png": "[encoded data removed]",
      "text/plain": [
       "<Figure size 360x360 with 1 Axes>"
      ]
     },
     "metadata": {},
     "output_type": "display_data"
    },
    {
     "name": "stdout",
     "output_type": "stream",
     "text": [
      "5\n"
     ]
    }
   ],
   "source": [
    "label , pixel = train_data[0]\n",
    "show(pixel)\n",
    "print(label)"
   ]
  },
  {
   "cell_type": "code",
   "execution_count": 10,
   "metadata": {},
   "outputs": [
    {
     "data": {
      "text/plain": [
       "(28, 28)"
      ]
     },
     "execution_count": 10,
     "metadata": {},
     "output_type": "execute_result"
    }
   ],
   "source": [
    "pixel.shape"
   ]
  },
  {
   "cell_type": "code",
   "execution_count": 11,
   "metadata": {},
   "outputs": [],
   "source": [
    "img_32= np.pad(pixel,(2,2), 'constant')"
   ]
  },
  {
   "cell_type": "code",
   "execution_count": 12,
   "metadata": {
    "scrolled": true
   },
   "outputs": [
    {
     "data": {
      "image/png": "[encoded data removed]",
      "text/plain": [
       "<Figure size 360x360 with 1 Axes>"
      ]
     },
     "metadata": {},
     "output_type": "display_data"
    }
   ],
   "source": [
    "show(img_32)"
   ]
  },
  {
   "cell_type": "code",
   "execution_count": 13,
   "metadata": {},
   "outputs": [
    {
     "name": "stdout",
     "output_type": "stream",
     "text": [
      "now shape:  (32, 32)\n",
      "changed shape:  (32, 32, 1)\n"
     ]
    }
   ],
   "source": [
    "print(\"now shape: \",img_32.shape)\n",
    "img_32_32_1 = img_32.reshape(img_32.shape[0],img_32.shape[0],1)\n",
    "print(\"changed shape: \",img_32_32_1.shape)\n"
   ]
  },
  {
   "cell_type": "markdown",
   "metadata": {},
   "source": [
    "IMAGE HAS BEEN RESIZED TO 32X32X1"
   ]
  },
  {
   "cell_type": "code",
   "execution_count": 16,
   "metadata": {},
   "outputs": [],
   "source": [
    "from PIL import Image\n",
    "# forward pass for LeNET\n",
    "\n",
    "FILTER_ROWS = 5    #initialisations\n",
    "FILTER_COLS = 5\n",
    "FILTER_DEPTH_LEVEL_1 = 1\n",
    "FILTER_DEPTH_LEVEL_2 = 6\n",
    "NUM_FILTERS_LEVEL_1 = 6\n",
    "NUM_FILTERS_LEVEL_2 = 16\n",
    "\n",
    "# helper functions\n",
    "def create_filter(Depth, numFilters, FILTER_ROWS = FILTER_ROWS, FILTER_COLS=FILTER_COLS):\n",
    "    mat = np.random.randn(FILTER_ROWS,FILTER_COLS ,Depth ,numFilters)\n",
    "    return mat\n",
    "\n",
    "def ReLU(X):\n",
    "        return np.where(X>0,np.where(X<255.0,X,255),0.0)\n",
    "\n",
    "\n",
    "def do_filter(data, data_filter):\n",
    "    res = np.multiply(data,data_filter)\n",
    "    return np.sum(res)\n",
    "\n",
    "def convolute(this_data, data_filter):\n",
    "    filtrow, filtcol, depth , numfilt = data_filter.shape\n",
    "    this_data_row, this_data_col, this_data_width = this_data.shape\n",
    "    result_dim = this_data_row - filtrow + 1\n",
    "    result = np.zeros((result_dim, result_dim , numfilt))\n",
    "    for n in range(numfilt):\n",
    "        for i in range(result_dim):\n",
    "            for j in range(result_dim):\n",
    "                result[i][j][n] = do_filter(this_data[i:i+filtrow, j:j+filtcol , 0:this_data_width] , data_filter[:,:,:,n])\n",
    "    \n",
    "    return result\n",
    "\n",
    "def max_pool(data, stride , pool_rows, pool_cols):\n",
    "    data_rows , data_cols, data_width = data.shape\n",
    "    result_rows = int((data_rows - pool_rows)/stride) + 1\n",
    "    result_cols = int((data_cols - pool_cols)/stride) + 1\n",
    "    result = np.zeros((result_rows, result_cols , data_width))\n",
    "    \n",
    "    for w in range(data_width):\n",
    "        for i in range(result_rows):\n",
    "            for j in range(result_cols):\n",
    "                result[i][j][w] = np.max(data[i*stride:i*stride+pool_rows, j*stride:j*stride+pool_cols , w])\n",
    "                \n",
    "    return result\n",
    "#~~~~~~~~~~~~~~~~~~~~~~~~~~~~~~~~~~Neural Network~~~~~~~~~~~~~~~~~~~~~~~~~~~~~~\n",
    "\n",
    "# Neural Network Layers class\n",
    "class Layer():\n",
    "    def __init__(self, num_nodes_prev_layer, num_nodes_this_layer, activation_func):\n",
    "        self.weights = np.random.randn(num_nodes_prev_layer, num_nodes_this_layer)\n",
    "        self.bias = np.random.randn(num_nodes_this_layer,1)\n",
    "        self.activation_func = activation_func\n",
    "        \n",
    "        \n",
    "    def ReLU(X):\n",
    "        return np.where(X>0,np.where(X<255.0,X,255),0.0)\n",
    "    \n",
    "    def sigmoid(self, Z):\n",
    "        return np.divide(1, np.add(1, np.exp(np.negative(Z))))\n",
    "    \n",
    "    def tanh(self, Z):\n",
    "        return np.tanh(Z)\n",
    "    \n",
    "    def softmax(self,z):\n",
    "        expScores = np.exp(z)\n",
    "        probs = expScores/np.sum(expScores)\n",
    "        return probs\n",
    "    \n",
    "    def fit(self, data):\n",
    "        Z = np.add(np.matmul(self.weights.T, data),self.bias)\n",
    "        if self.activation_func == \"RELU\":\n",
    "            self.a = self.ReLU(Z)\n",
    "        if self.activation_func == \"SIGMOID\":\n",
    "            self.a = self.sigmoid(Z)\n",
    "        if self.activation_func == \"TANH\":\n",
    "            self.a = self.tanh(Z)\n",
    "        if self.activation_func == \"SOFTMAX\":\n",
    "            self.a = self.softmax(Z)\n",
    "            \n",
    "            \n",
    "# Neural Network with only forward pass\n",
    "class NeuralNet():\n",
    "    def __init__(self):\n",
    "        self.Layers=[]\n",
    "    def add_layer(self, num_nodes_prev_layer, num_nodes_this_layer, activation_func):\n",
    "        self.Layers.append(Layer(num_nodes_prev_layer,num_nodes_this_layer,activation_func))\n",
    "    def forward_pass(self, data):\n",
    "        for i in range(len(self.Layers)):\n",
    "            if i==0:\n",
    "                self.Layers[i].fit(data)\n",
    "            else:\n",
    "                self.Layers[i].fit(self.Layers[i-1].a)"
   ]
  },
  {
   "cell_type": "code",
   "execution_count": 24,
   "metadata": {},
   "outputs": [
    {
     "name": "stdout",
     "output_type": "stream",
     "text": [
      "Figures after first layer convolution: C1 maps\n"
     ]
    },
    {
     "data": {
      "image/png": "[encoded data removed]",
      "text/plain": [
       "<Figure size 936x936 with 6 Axes>"
      ]
     },
     "metadata": {},
     "output_type": "display_data"
    },
    {
     "name": "stdout",
     "output_type": "stream",
     "text": [
      "shape after filter level 1: C1 feature maps \n",
      "(28, 28, 6)\n",
      "Figures after first layer max_pooling: S2 f.maps\n"
     ]
    },
    {
     "data": {
      "image/png": "[encoded data removed]",
      "text/plain": [
       "<Figure size 936x936 with 6 Axes>"
      ]
     },
     "metadata": {},
     "output_type": "display_data"
    },
    {
     "name": "stdout",
     "output_type": "stream",
     "text": [
      "shape after first pooling: S2 f.maps\n",
      "(14, 14, 6)\n",
      "Figures after second layer convolution: C3 maps\n"
     ]
    },
    {
     "data": {
      "image/png": "[encoded data removed]",
      "text/plain": [
       "<Figure size 936x936 with 16 Axes>"
      ]
     },
     "metadata": {},
     "output_type": "display_data"
    },
    {
     "name": "stdout",
     "output_type": "stream",
     "text": [
      "shape after filter level 2: C3 feature maps: \n",
      "(10, 10, 16)\n",
      "Figures after second layer max_pooling:\n"
     ]
    },
    {
     "data": {
      "image/png": "[encoded data removed]",
      "text/plain": [
       "<Figure size 936x936 with 16 Axes>"
      ]
     },
     "metadata": {},
     "output_type": "display_data"
    },
    {
     "name": "stdout",
     "output_type": "stream",
     "text": [
      "shape after second pooling: s4 f.maps\n",
      "(5, 5, 16)\n",
      "Figures after third layer convolution: C5 maps\n"
     ]
    },
    {
     "data": {
      "image/png": "[encoded data removed]",
      "text/plain": [
       "<Figure size 936x936 with 120 Axes>"
      ]
     },
     "metadata": {},
     "output_type": "display_data"
    },
    {
     "name": "stdout",
     "output_type": "stream",
     "text": [
      "shape after C5 layer :  (1, 1, 120)\n"
     ]
    }
   ],
   "source": [
    "import matplotlib.pyplot as plt\n",
    "import matplotlib as mpl\n",
    "\n",
    "filter_level_1 = create_filter(1,6)\n",
    "con_result_1 = convolute(img_32_32_1,filter_level_1)\n",
    "reLURes_1 = ReLU(con_result_1)\n",
    "print(\"Figures after first layer convolution: C1 maps\")\n",
    "\n",
    "fig , axes = plt.subplots(1,reLURes_1.shape[2],figsize=(13,13))\n",
    "for i in range(reLURes_1.shape[2]):\n",
    "    axes[i].imshow(reLURes_1[:,:,i].astype(int),cmap = mpl.cm.Greys)\n",
    "plt.show()\n",
    "\n",
    "print(\"shape after filter level 1: C1 feature maps \")\n",
    "print(reLURes_1.shape)\n",
    "pool_result_1 = max_pool(reLURes_1,2,2,2)\n",
    "print(\"Figures after first layer max_pooling: S2 f.maps\")\n",
    "fig , axes = plt.subplots(1,pool_result_1.shape[2],figsize=(13,13))\n",
    "for i in range(reLURes_1.shape[2]):\n",
    "    axes[i].imshow(pool_result_1[:,:,i].astype(int), cmap = mpl.cm.Greys)\n",
    "plt.show()\n",
    "print(\"shape after first pooling: S2 f.maps\")\n",
    "print(pool_result_1.shape)\n",
    "filter_level_2 = create_filter(6,16)\n",
    "con_result_2 = convolute(pool_result_1,filter_level_2)\n",
    "reLURes_2 = ReLU(con_result_2)\n",
    "\n",
    "print(\"Figures after second layer convolution: C3 maps\")\n",
    "fig , axes = plt.subplots(1,reLURes_2.shape[2],figsize=(13,13))\n",
    "for i in range(reLURes_2.shape[2]):\n",
    "    axes[i].imshow(reLURes_2[:,:,i].astype(int), cmap = mpl.cm.Greys)\n",
    "plt.show()\n",
    "\n",
    "print(\"shape after filter level 2: C3 feature maps: \")\n",
    "print(reLURes_2.shape)\n",
    "pool_result_2 = max_pool(reLURes_2,2,2,2)\n",
    "\n",
    "\n",
    "\n",
    "\n",
    "print(\"Figures after second layer max_pooling:\")\n",
    "fig , axes = plt.subplots(1,pool_result_2.shape[2],figsize=(13,13))\n",
    "for i in range(pool_result_2.shape[2]):\n",
    "    axes[i].imshow(pool_result_2[:,:,i].astype(int), cmap = mpl.cm.Greys)\n",
    "plt.show()\n",
    "\n",
    "\n",
    "print(\"shape after second pooling: s4 f.maps\")\n",
    "print(pool_result_2.shape)\n",
    "\n",
    "\n",
    "\n",
    "filter_level_3 = create_filter(16, 120)\n",
    "con_result_3 = convolute(pool_result_2, filter_level_3)\n",
    "reLURes_3 = ReLU(con_result_3)\n",
    "\n",
    "print(\"Figures after third layer convolution: C5 maps\")\n",
    "fig , axes = plt.subplots(1,reLURes_3.shape[2],figsize=(13,13))\n",
    "for i in range(reLURes_3.shape[2]):\n",
    "    axes[i].imshow(reLURes_3[:,:,i].astype(int), cmap = mpl.cm.Greys)\n",
    "plt.show()\n",
    "\n",
    "print(\"shape after C5 layer : \", reLURes_3.shape)"
   ]
  },
  {
   "cell_type": "code",
   "execution_count": 25,
   "metadata": {},
   "outputs": [
    {
     "name": "stdout",
     "output_type": "stream",
     "text": [
      "shape of flatted data: (120, 1)\n"
     ]
    }
   ],
   "source": [
    "#flatten the matrix\n",
    "\n",
    "flatted_data = reLURes_3.flatten()\n",
    "flatted_data.resize(flatted_data.shape[0],1)\n",
    "print(\"shape of flatted data:\",flatted_data.shape)\n",
    "# Neural NetWork forward pass\n",
    "NN = NeuralNet()\n",
    "NN.add_layer(flatted_data.shape[0], 84,\"TANH\") # fully connected hidden layer size 84\n",
    "NN.add_layer(84,10,\"SOFTMAX\") # fully connected output layer size 10\n",
    "NN.forward_pass(flatted_data) #forward pass"
   ]
  },
  {
   "cell_type": "code",
   "execution_count": 26,
   "metadata": {},
   "outputs": [
    {
     "name": "stdout",
     "output_type": "stream",
     "text": [
      "output of neural network:\n",
      " [[1.25311164e-05]\n",
      " [3.26546893e-02]\n",
      " [9.47152930e-03]\n",
      " [2.78863826e-02]\n",
      " [1.11067112e-01]\n",
      " [8.21372736e-02]\n",
      " [7.36645954e-01]\n",
      " [3.05584177e-08]\n",
      " [1.24497363e-04]\n",
      " [1.84206907e-10]]\n",
      "class predicted with random weights: 6\n"
     ]
    }
   ],
   "source": [
    "print(\"output of neural network:\\n\", NN.Layers[1].a)\n",
    "print(\"class predicted with random weights:\", np.argmax(NN.Layers[1].a))"
   ]
  },
  {
   "cell_type": "markdown",
   "metadata": {},
   "source": [
    "## QUESTION 2"
   ]
  },
  {
   "cell_type": "markdown",
   "metadata": {},
   "source": [
    "####  No. of Parameters in first convolution layer\n",
    "= (filter size)^2 * np of channels in input * no. of filters + np. of filters (no of base)\n"
   ]
  },
  {
   "cell_type": "markdown",
   "metadata": {},
   "source": [
    "#### No. of parameters in pooling:\n",
    "= 0 (only filter dimensions are required)"
   ]
  },
  {
   "cell_type": "markdown",
   "metadata": {},
   "source": [
    "#### No. of parameters:\n",
    "Activation function = Pooling layer < Convolution layer < Fully connected layer\n"
   ]
  },
  {
   "cell_type": "markdown",
   "metadata": {},
   "source": [
    "#### Memory consumption\n",
    "convolution layer < Fully connected layers\n",
    "some cases :\n",
    "fully connected layer < convolution layers"
   ]
  },
  {
   "cell_type": "code",
   "execution_count": null,
   "metadata": {},
   "outputs": [],
   "source": []
  }
 ],
 "metadata": {
  "kernelspec": {
   "display_name": "Python 3",
   "language": "python",
   "name": "python3"
  },
  "language_info": {
   "codemirror_mode": {
    "name": "ipython",
    "version": 3
   },
   "file_extension": ".py",
   "mimetype": "text/x-python",
   "name": "python",
   "nbconvert_exporter": "python",
   "pygments_lexer": "ipython3",
   "version": "3.6.5"
  }
 },
 "nbformat": 4,
 "nbformat_minor": 2
}
